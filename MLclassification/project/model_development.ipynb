{
 "cells": [
  {
   "cell_type": "markdown",
   "metadata": {},
   "source": [
    "# Machine Learning - Classification"
   ]
  },
  {
   "cell_type": "code",
   "execution_count": 1,
   "metadata": {},
   "outputs": [],
   "source": [
    "# Importing packages\n",
    "import pandas as pd\n",
    "import numpy as np\n",
    "from matplotlib import pyplot as plt\n",
    "import seaborn as sns\n",
    "from sklearn.impute import SimpleImputer\n",
    "from sklearn.preprocessing import KBinsDiscretizer\n",
    "from sklearn.preprocessing import OneHotEncoder\n",
    "from sklearn.preprocessing import MinMaxScaler, StandardScaler\n",
    "from sklearn.preprocessing import FunctionTransformer\n",
    "from sklearn.compose import ColumnTransformer\n",
    "from sklearn.dummy import DummyClassifier\n",
    "from sklearn.linear_model import LogisticRegression\n",
    "from sklearn.ensemble import RandomForestClassifier\n",
    "from sklearn.pipeline import make_pipeline\n",
    "from sklearn.metrics import accuracy_score\n",
    "from sklearn.model_selection import train_test_split\n",
    "from sklearn.metrics import accuracy_score\n",
    "from sklearn.metrics import recall_score\n",
    "from sklearn.metrics import precision_score\n",
    "from sklearn.metrics import f1_score\n",
    "from sklearn.metrics import confusion_matrix\n",
    "from sklearn.metrics import roc_auc_score"
   ]
  },
  {
   "cell_type": "markdown",
   "metadata": {},
   "source": [
    "## 1. Define (business) goal\n",
    "Goal: Build a machine learning model that is able to predict whether a passengers of the Titatanic would survive or not."
   ]
  },
  {
   "cell_type": "markdown",
   "metadata": {},
   "source": [
    "## 2. Get Data"
   ]
  },
  {
   "cell_type": "code",
   "execution_count": 2,
   "metadata": {},
   "outputs": [
    {
     "data": {
      "text/plain": [
       "(891, 12)"
      ]
     },
     "execution_count": 2,
     "metadata": {},
     "output_type": "execute_result"
    }
   ],
   "source": [
    "df = pd.read_csv('../data/train.csv')\n",
    "df.shape"
   ]
  },
  {
   "cell_type": "markdown",
   "metadata": {},
   "source": [
    "## 3. Train-test split "
   ]
  },
  {
   "cell_type": "code",
   "execution_count": 3,
   "metadata": {},
   "outputs": [],
   "source": [
    "y = df[\"Survived\"]\n",
    "X = df.drop(\"Survived\", axis=1)"
   ]
  },
  {
   "cell_type": "code",
   "execution_count": 4,
   "metadata": {},
   "outputs": [
    {
     "name": "stdout",
     "output_type": "stream",
     "text": [
      "(712, 11) (179, 11) (712,) (179,)\n"
     ]
    }
   ],
   "source": [
    "X_train, X_test, y_train, y_test = train_test_split(X,y, test_size = 0.2, random_state = 42)\n",
    "print(X_train.shape, X_test.shape, y_train.shape, y_test.shape)"
   ]
  },
  {
   "cell_type": "markdown",
   "metadata": {},
   "source": [
    "## 4. Explore the data"
   ]
  },
  {
   "cell_type": "code",
   "execution_count": 5,
   "metadata": {},
   "outputs": [
    {
     "name": "stdout",
     "output_type": "stream",
     "text": [
      "(712, 12)\n",
      "     PassengerId  Pclass                                Name     Sex   Age  \\\n",
      "331          332       1                 Partner, Mr. Austen    male  45.5   \n",
      "733          734       2          Berriman, Mr. William John    male  23.0   \n",
      "382          383       3                  Tikkanen, Mr. Juho    male  32.0   \n",
      "704          705       3             Hansen, Mr. Henrik Juul    male  26.0   \n",
      "813          814       3  Andersson, Miss. Ebba Iris Alfrida  female   6.0   \n",
      "\n",
      "     SibSp  Parch             Ticket     Fare Cabin Embarked  Survived  \n",
      "331      0      0             113043  28.5000  C124        S         0  \n",
      "733      0      0              28425  13.0000   NaN        S         0  \n",
      "382      0      0  STON/O 2. 3101293   7.9250   NaN        S         0  \n",
      "704      1      0             350025   7.8542   NaN        S         0  \n",
      "813      4      2             347082  31.2750   NaN        S         0  \n"
     ]
    }
   ],
   "source": [
    "# Re-combine X and y of training set in one dataframe for data exploration\n",
    "df_train = pd.concat([X_train, y_train], axis = 1)\n",
    "df_test = pd.concat([X_test, y_test], axis = 1)\n",
    "print(df_train.shape)\n",
    "print(df_train.head())"
   ]
  },
  {
   "cell_type": "markdown",
   "metadata": {},
   "source": [
    "### Total surviving vs. non-surviving passengers\n",
    "About one-third more passengers drowned than survived."
   ]
  },
  {
   "cell_type": "code",
   "execution_count": 6,
   "metadata": {},
   "outputs": [
    {
     "data": {
      "text/plain": [
       "Text(0, 0.5, 'Number of passengers')"
      ]
     },
     "execution_count": 6,
     "metadata": {},
     "output_type": "execute_result"
    },
    {
     "data": {
      "image/png": "[encoded data removed]",
      "text/plain": [
       "<Figure size 640x480 with 1 Axes>"
      ]
     },
     "metadata": {},
     "output_type": "display_data"
    }
   ],
   "source": [
    "survived = df_train.groupby('Survived')['PassengerId'].count()\n",
    "plt.bar(x=[\"Not Survived\", \"Survived\"], height=survived)\n",
    "plt.xlabel(\"\")\n",
    "plt.ylabel('Number of passengers')"
   ]
  },
  {
   "cell_type": "markdown",
   "metadata": {},
   "source": [
    "### Rate of surviving passengers per class\n",
    "Survivial rate decreased from 1st to 2nd to 3rd class. A good correlation with the number of passangers that survived/drowned can be expected."
   ]
  },
  {
   "cell_type": "code",
   "execution_count": 8,
   "metadata": {},
   "outputs": [
    {
     "name": "stdout",
     "output_type": "stream",
     "text": [
      "Rate of surviving passengers in 1. class:  0.61\n",
      "Rate of surviving passengers in 2. class:  0.48\n",
      "Rate of surviving passengers in 3. class:  0.24\n"
     ]
    }
   ],
   "source": [
    "for pclass in range(1,4):\n",
    "    survived = df_train[(df_train['Survived'] == 1) & (df_train[\"Pclass\"] == pclass)][\"PassengerId\"].count()\n",
    "    total_passengers_in_class = df_train[df_train['Pclass'] == pclass][\"PassengerId\"].count()\n",
    "    print(\"Rate of surviving passengers in \" + str(pclass) + \". class: \", round(survived/total_passengers_in_class, 2))"
   ]
  },
  {
   "cell_type": "markdown",
   "metadata": {},
   "source": [
    "### Explore number of male/female passengers per class 1st/2nd/3rd\n",
    "\n",
    "The number of male passengers in the 3rd class was significantly higher than the number of women in this class as well as the number of male and female passengers in the 1st and 2nd class. "
   ]
  },
  {
   "cell_type": "code",
   "execution_count": 9,
   "metadata": {},
   "outputs": [
    {
     "data": {
      "image/png": "[encoded data removed]",
      "text/plain": [
       "<Figure size 640x480 with 1 Axes>"
      ]
     },
     "metadata": {},
     "output_type": "display_data"
    }
   ],
   "source": [
    "df_subset = df_train[['PassengerId',\"Pclass\",\"Sex\"]]\n",
    "df_subset = df_subset.groupby([\"Sex\",\"Pclass\"]).count()\n",
    "df_subset.plot.bar(legend = False)\n",
    "plt.axis([None, None, 0, 400])\n",
    "plt.tight_layout()"
   ]
  },
  {
   "cell_type": "code",
   "execution_count": 10,
   "metadata": {},
   "outputs": [
    {
     "data": {
      "text/html": [
       "<div>\n",
       "<style scoped>\n",
       "    .dataframe tbody tr th:only-of-type {\n",
       "        vertical-align: middle;\n",
       "    }\n",
       "\n",
       "    .dataframe tbody tr th {\n",
       "        vertical-align: top;\n",
       "    }\n",
       "\n",
       "    .dataframe thead th {\n",
       "        text-align: right;\n",
       "    }\n",
       "</style>\n",
       "<table border=\"1\" class=\"dataframe\">\n",
       "  <thead>\n",
       "    <tr style=\"text-align: right;\">\n",
       "      <th></th>\n",
       "      <th></th>\n",
       "      <th>PassengerId</th>\n",
       "    </tr>\n",
       "    <tr>\n",
       "      <th>Survived</th>\n",
       "      <th>Pclass</th>\n",
       "      <th></th>\n",
       "    </tr>\n",
       "  </thead>\n",
       "  <tbody>\n",
       "    <tr>\n",
       "      <th rowspan=\"3\" valign=\"top\">0</th>\n",
       "      <th>1</th>\n",
       "      <td>64</td>\n",
       "    </tr>\n",
       "    <tr>\n",
       "      <th>2</th>\n",
       "      <td>78</td>\n",
       "    </tr>\n",
       "    <tr>\n",
       "      <th>3</th>\n",
       "      <td>302</td>\n",
       "    </tr>\n",
       "    <tr>\n",
       "      <th rowspan=\"3\" valign=\"top\">1</th>\n",
       "      <th>1</th>\n",
       "      <td>99</td>\n",
       "    </tr>\n",
       "    <tr>\n",
       "      <th>2</th>\n",
       "      <td>73</td>\n",
       "    </tr>\n",
       "    <tr>\n",
       "      <th>3</th>\n",
       "      <td>96</td>\n",
       "    </tr>\n",
       "  </tbody>\n",
       "</table>\n",
       "</div>"
      ],
      "text/plain": [
       "                 PassengerId\n",
       "Survived Pclass             \n",
       "0        1                64\n",
       "         2                78\n",
       "         3               302\n",
       "1        1                99\n",
       "         2                73\n",
       "         3                96"
      ]
     },
     "execution_count": 10,
     "metadata": {},
     "output_type": "execute_result"
    }
   ],
   "source": [
    "# Create a table counting the number of surviving/dead passengers separately for 1st/2nd/3rd class and male/female.\n",
    "df_subset = df_train[[\"Survived\", \"Pclass\", \"PassengerId\"]]\n",
    "df_subset.groupby(['Survived', 'Pclass']).count()"
   ]
  },
  {
   "cell_type": "markdown",
   "metadata": {},
   "source": [
    "### Inspect surviving/non-surviving passengers per feature"
   ]
  },
  {
   "cell_type": "code",
   "execution_count": 11,
   "metadata": {},
   "outputs": [
    {
     "data": {
      "text/plain": [
       "Text(0, 0.5, 'Number of passengers')"
      ]
     },
     "execution_count": 11,
     "metadata": {},
     "output_type": "execute_result"
    },
    {
     "data": {
      "image/png": "[encoded data removed]",
      "text/plain": [
       "<Figure size 640x480 with 1 Axes>"
      ]
     },
     "metadata": {},
     "output_type": "display_data"
    }
   ],
   "source": [
    "plt.close()\n",
    "df_sub = df_train\n",
    "df_sub[\"Pclass\"] = df_sub[\"Pclass\"].astype(str)\n",
    "df_sub.groupby('Survived')['Pclass'].hist(alpha=0.7, bins=3, legend=True)\n",
    "plt.legend(labels=[\"Not Survived\", \"Survived\"])\n",
    "plt.title(\"Feature: Pclass\")\n",
    "plt.xlabel(\"Passenger Class\")\n",
    "plt.ylabel(\"Number of passengers\")"
   ]
  },
  {
   "cell_type": "code",
   "execution_count": 12,
   "metadata": {},
   "outputs": [
    {
     "data": {
      "text/plain": [
       "Text(0, 0.5, 'Number of passengers')"
      ]
     },
     "execution_count": 12,
     "metadata": {},
     "output_type": "execute_result"
    },
    {
     "data": {
      "image/png": "[encoded data removed]",
      "text/plain": [
       "<Figure size 640x480 with 1 Axes>"
      ]
     },
     "metadata": {},
     "output_type": "display_data"
    }
   ],
   "source": [
    "plt.close()\n",
    "df.groupby('Survived')['Sex'].hist(alpha=0.7, bins= 2, legend=True)\n",
    "plt.legend(labels=[\"Not Survived\", \"Survived\"])\n",
    "plt.title(\"Feature: Sex\")\n",
    "plt.xlabel(\"Sex\")\n",
    "plt.ylabel(\"Number of passengers\")"
   ]
  },
  {
   "cell_type": "code",
   "execution_count": 13,
   "metadata": {},
   "outputs": [
    {
     "data": {
      "text/plain": [
       "Text(0, 0.5, 'Number of passengers')"
      ]
     },
     "execution_count": 13,
     "metadata": {},
     "output_type": "execute_result"
    },
    {
     "data": {
      "image/png": "[encoded data removed]",
      "text/plain": [
       "<Figure size 640x480 with 1 Axes>"
      ]
     },
     "metadata": {},
     "output_type": "display_data"
    }
   ],
   "source": [
    "plt.close()\n",
    "df_train.groupby('Survived')['Age'].hist(alpha=0.7, bins=5, legend=True)\n",
    "plt.legend(labels=[\"Not Survived\", \"Survived\"])\n",
    "plt.title(\"Feature: Age\")\n",
    "plt.xlabel(\"Age\")\n",
    "plt.ylabel(\"Number of passengers\")"
   ]
  },
  {
   "cell_type": "code",
   "execution_count": 14,
   "metadata": {},
   "outputs": [
    {
     "name": "stdout",
     "output_type": "stream",
     "text": [
      "SibSp  Survived\n",
      "0      0           398\n",
      "       1           210\n",
      "1      0            97\n",
      "       1           112\n",
      "2      0            15\n",
      "       1            13\n",
      "3      0            12\n",
      "       1             4\n",
      "4      0            15\n",
      "       1             3\n",
      "5      0             5\n",
      "8      0             7\n",
      "Name: PassengerId, dtype: int64\n"
     ]
    },
    {
     "data": {
      "text/plain": [
       "Text(0, 0.5, 'Number of passengers')"
      ]
     },
     "execution_count": 14,
     "metadata": {},
     "output_type": "execute_result"
    },
    {
     "data": {
      "image/png": "[encoded data removed]",
      "text/plain": [
       "<Figure size 640x480 with 1 Axes>"
      ]
     },
     "metadata": {},
     "output_type": "display_data"
    }
   ],
   "source": [
    "print(df.groupby(['SibSp','Survived'])['PassengerId'].count())\n",
    "plt.close()\n",
    "df_train.groupby(['SibSp','Survived']).count()['PassengerId'].unstack().plot(kind=\"bar\")\n",
    "plt.legend(labels=[\"Not Survived\", \"Survived\"])\n",
    "plt.title(\"Feature: SibSp\")\n",
    "plt.xlabel(\"Number of Siblings or Spous\")\n",
    "plt.ylabel(\"Number of passengers\")"
   ]
  },
  {
   "cell_type": "code",
   "execution_count": 15,
   "metadata": {},
   "outputs": [
    {
     "name": "stdout",
     "output_type": "stream",
     "text": [
      "Parch  Survived\n",
      "0      0           445\n",
      "       1           233\n",
      "1      0            53\n",
      "       1            65\n",
      "2      0            40\n",
      "       1            40\n",
      "3      0             2\n",
      "       1             3\n",
      "4      0             4\n",
      "5      0             4\n",
      "       1             1\n",
      "6      0             1\n",
      "Name: PassengerId, dtype: int64\n"
     ]
    },
    {
     "data": {
      "text/plain": [
       "Text(0, 0.5, 'Number of passengers')"
      ]
     },
     "execution_count": 15,
     "metadata": {},
     "output_type": "execute_result"
    },
    {
     "data": {
      "image/png": "[encoded data removed]",
      "text/plain": [
       "<Figure size 640x480 with 1 Axes>"
      ]
     },
     "metadata": {},
     "output_type": "display_data"
    }
   ],
   "source": [
    "print(df.groupby(['Parch','Survived'])['PassengerId'].count())\n",
    "plt.close()\n",
    "df_train.groupby(['Parch','Survived']).count()['PassengerId'].unstack().plot(kind=\"bar\")\n",
    "plt.legend(labels=[\"Not Survived\", \"Survived\"])\n",
    "plt.title(\"Feature: Parch\")\n",
    "plt.xlabel(\"Number of Parents / Children\")\n",
    "plt.ylabel(\"Number of passengers\")"
   ]
  },
  {
   "cell_type": "code",
   "execution_count": 16,
   "metadata": {},
   "outputs": [
    {
     "data": {
      "text/plain": [
       "Text(0, 0.5, 'Number of passengers')"
      ]
     },
     "execution_count": 16,
     "metadata": {},
     "output_type": "execute_result"
    },
    {
     "data": {
      "image/png": "[encoded data removed]",
      "text/plain": [
       "<Figure size 640x480 with 1 Axes>"
      ]
     },
     "metadata": {},
     "output_type": "display_data"
    }
   ],
   "source": [
    "plt.close()\n",
    "df_train.groupby('Survived')['Fare'].hist(alpha=0.7, bins=10, legend=True)\n",
    "plt.legend(labels=[\"Not Survived\", \"Survived\"])\n",
    "plt.title(\"Feature: Fare\")\n",
    "plt.xlabel(\"Ticket fare\")\n",
    "plt.ylabel(\"Number of passengers\")"
   ]
  },
  {
   "cell_type": "code",
   "execution_count": 17,
   "metadata": {},
   "outputs": [
    {
     "data": {
      "text/plain": [
       "Text(0, 0.5, 'Number of passengers')"
      ]
     },
     "execution_count": 17,
     "metadata": {},
     "output_type": "execute_result"
    },
    {
     "data": {
      "image/png": "[encoded data removed]",
      "text/plain": [
       "<Figure size 640x480 with 1 Axes>"
      ]
     },
     "metadata": {},
     "output_type": "display_data"
    }
   ],
   "source": [
    "plt.close()\n",
    "df_train.groupby('Survived')['Embarked'].hist(alpha=0.7, bins=5, legend=True)\n",
    "plt.legend(labels=[\"Not Survived\", \"Survived\"])\n",
    "plt.title(\"Feature: Embarkment\")\n",
    "plt.xlabel(\"Port of embarkment\")\n",
    "plt.ylabel(\"Number of passengers\")"
   ]
  },
  {
   "cell_type": "code",
   "execution_count": 18,
   "metadata": {},
   "outputs": [
    {
     "data": {
      "text/plain": [
       "Text(0, 0.5, 'Number of passengers')"
      ]
     },
     "execution_count": 18,
     "metadata": {},
     "output_type": "execute_result"
    },
    {
     "data": {
      "image/png": "[encoded data removed]",
      "text/plain": [
       "<Figure size 640x480 with 1 Axes>"
      ]
     },
     "metadata": {},
     "output_type": "display_data"
    }
   ],
   "source": [
    "# Subdevide cabin data into CabinInfo and NoCabinInfo given\n",
    "df_train.loc[df_train[\"Cabin\"].isna(), \"CabinInfo\"] = \"NoCabinInfo\"\n",
    "df_train.loc[df_train[\"Cabin\"].notna(), \"CabinInfo\"] = \"CabinInfo\"\n",
    "df_test.loc[df_test[\"Cabin\"].isna(), \"CabinInfo\"] = \"NoCabinInfo\"\n",
    "df_test.loc[df_test[\"Cabin\"].notna(), \"CabinInfo\"] = \"CabinInfo\"\n",
    "plt.close()\n",
    "df_train.groupby(['CabinInfo','Survived']).count()['PassengerId'].unstack().plot(kind=\"bar\")\n",
    "plt.legend(labels=[\"Not Survived\", \"Survived\"])\n",
    "plt.title(\"Feature: CabinInfo\")\n",
    "plt.ylabel(\"Number of passengers\")"
   ]
  },
  {
   "cell_type": "code",
   "execution_count": 19,
   "metadata": {},
   "outputs": [
    {
     "name": "stdout",
     "output_type": "stream",
     "text": [
      "['Mr.' 'Miss.' 'NoTitle' 'Mrs.' 'Master.']\n",
      "['Master.' 'Mr.' 'Miss.' 'NoTitle' 'Mrs.']\n"
     ]
    },
    {
     "data": {
      "text/plain": [
       "Text(0, 0.5, 'Number of passengers')"
      ]
     },
     "execution_count": 19,
     "metadata": {},
     "output_type": "execute_result"
    },
    {
     "data": {
      "image/png": "[encoded data removed]",
      "text/plain": [
       "<Figure size 640x480 with 1 Axes>"
      ]
     },
     "metadata": {},
     "output_type": "display_data"
    }
   ],
   "source": [
    "# Check titles in names\n",
    "for i, row in df_train.iterrows():\n",
    "    df_train.loc[i, \"Title\"] = row[\"Name\"].split(\", \")[1].split(\" \")[0]\n",
    "for i, row in df_test.iterrows():   \n",
    "    df_test.loc[i, \"Title\"] = row[\"Name\"].split(\", \")[1].split(\" \")[0]\n",
    "# Set all NaNs and either unmeaningful or unsignificant to \"NoTitle\"\n",
    "#print(df_train[df_train[\"Title\"].isna()][\"PassengerId\"].count())\n",
    "\n",
    "for title in [\"the\", \"Mlle.\", \"Mme.\", \"Ms.\", \"Major.\", \"Lady.\", \"Capt.\", \"Col.\", \"Dr.\", \"Rev.\", \"Don\", \"Jonkheer\", \"Sir\"]:\n",
    "    for i, row in df_train.iterrows():\n",
    "        sub_str = df_train.loc[i, \"Title\"].strip()\n",
    "        if title in sub_str:\n",
    "            df_train.loc[i, \"Title\"] = \"NoTitle\"\n",
    "\n",
    "for title in [\"the\", \"Mlle.\", \"Mme.\", \"Ms.\", \"Major.\", \"Lady.\", \"Capt.\", \"Col.\", \"Dr.\", \"Rev.\", \"Don\", \"Jonkheer\", \"Sir\"]:\n",
    "    for i, row in df_test.iterrows():\n",
    "        sub_str = df_test.loc[i, \"Title\"].strip()\n",
    "        if title in sub_str:\n",
    "            df_test.loc[i, \"Title\"] = \"NoTitle\"\n",
    "\n",
    "print(df_train[\"Title\"].unique())\n",
    "print(df_test[\"Title\"].unique())\n",
    "\n",
    "plt.close()\n",
    "df_train.groupby(['Title','Survived']).count()['PassengerId'].unstack().plot(kind=\"bar\")\n",
    "plt.legend(labels=[\"Not Survived\", \"Survived\"])\n",
    "plt.title(\"Feature: Titles of Passengers\")\n",
    "plt.ylabel(\"Number of passengers\")\n"
   ]
  },
  {
   "cell_type": "markdown",
   "metadata": {},
   "source": [
    "## 5. Feature engineering"
   ]
  },
  {
   "cell_type": "markdown",
   "metadata": {},
   "source": [
    "### Inspect Features (columns) of Titanic data set and plan enginnering / transformation\n",
    "\n",
    "There exist 12 columns in the data set:\n",
    "\n",
    "Nothing to do for the columns:\n",
    "- 'Target' : \"Survived\" -> Contains data in the form 0==Drowned and 1==Survived -> Nothing to do\n",
    "- 'PassengerId' : Contains the IDs of the passengers as integer values. It can be excluded (or is extremely unlikely) that the ID has an influence on the survival of the passengers.\n",
    "- 'Ticket' : Ticket number / Ticket ID. It is extremely unlikely that there is a dependency between the ticket ID and the survival. Thus, this will not be considered for model building for now.\n",
    "\n",
    "Columns to engineer / transform / consider in model creation:\n",
    "- 'Pclass': Class booked as integer values -> although discrete values, should be treated as numerical column, since the class numer can have a direct realation to the survival, e.g. if first class passengers were granted priority over second class passengers and these over third class passengers for evacuation.\n",
    "- 'Sex': Categorical column with two possible values male or female -> Should be transformed with One-Hot-Encoding to individual male / female columns with 0 / 1 values\n",
    "- 'Age': Passenger age as real numbers with one decimal digit. Numerical column / \"Metric\" data. -> Scale, Optional: Bin the data. As we have seen in the data exploration that binning the data into five age groups shows a clear difference of the survival expectation, 5 bins should be created for Age in this case.\n",
    "- 'SibSp' : Number of siblings / spouses aboard the Titanic. The column contains integer values: 0==No siblings / spouses aboard or 1,2,3,4,5 and 8==Number of Siblings aboard. -> Could be considered as numerical and as categorical values. For now considering it as numerical values as there might be a direct relation between the number of siblings aboard and the survival rate. When conisdered as categorical data the exploratory analysis indicated that it might be a good choice to use three categories (\"No SibSp\", \"1to4_SibSp\", \"5orMore_SibSp\")\n",
    "- 'Parch' : Number of parents / children aboard the titanic. Integer values: 0-6. Could be considered as numerical and as categorical. Might also be not considered at all, since the information is partially contained in SibSp -> Redundant information? For now will be considered as numerical column. If categories are created later, then categorization according to \"NoParch\", \"1_3_Parches\", \"4orMore_Parches\" might be a good option to check.\n",
    "- 'Fare' : Passenger Fare, i.e. price of ticket. Numerical column / \"Metric\" data. -> To be scaled? So that the smallest fare is zero?\n",
    "- 'Embarked' : Port of Embarkation, Categorical data, S', 'C', 'Q'; C = Cherbourg, Q = Queenstown, S = Southampton\n",
    "- 'Cabin' : ID / Name of the Cabin. -> Whether there is a cabin name or not is related to the survival rate.\n",
    "- 'Name' : Name of the passenger as String. Contains titles of passangers that can be used for modeling."
   ]
  },
  {
   "cell_type": "code",
   "execution_count": 24,
   "metadata": {},
   "outputs": [
    {
     "name": "stdout",
     "output_type": "stream",
     "text": [
      "Index(['PassengerId', 'Survived', 'Pclass', 'Name', 'Sex', 'Age', 'SibSp',\n",
      "       'Parch', 'Ticket', 'Fare', 'Cabin', 'Embarked'],\n",
      "      dtype='object')\n"
     ]
    },
    {
     "data": {
      "text/html": [
       "<div>\n",
       "<style scoped>\n",
       "    .dataframe tbody tr th:only-of-type {\n",
       "        vertical-align: middle;\n",
       "    }\n",
       "\n",
       "    .dataframe tbody tr th {\n",
       "        vertical-align: top;\n",
       "    }\n",
       "\n",
       "    .dataframe thead th {\n",
       "        text-align: right;\n",
       "    }\n",
       "</style>\n",
       "<table border=\"1\" class=\"dataframe\">\n",
       "  <thead>\n",
       "    <tr style=\"text-align: right;\">\n",
       "      <th></th>\n",
       "      <th>Survived</th>\n",
       "      <th>Name</th>\n",
       "      <th>PassengerId</th>\n",
       "    </tr>\n",
       "  </thead>\n",
       "  <tbody>\n",
       "    <tr>\n",
       "      <th>0</th>\n",
       "      <td>0</td>\n",
       "      <td>Braund, Mr. Owen Harris</td>\n",
       "      <td>1</td>\n",
       "    </tr>\n",
       "    <tr>\n",
       "      <th>1</th>\n",
       "      <td>1</td>\n",
       "      <td>Cumings, Mrs. John Bradley (Florence Briggs Th...</td>\n",
       "      <td>2</td>\n",
       "    </tr>\n",
       "    <tr>\n",
       "      <th>2</th>\n",
       "      <td>1</td>\n",
       "      <td>Heikkinen, Miss. Laina</td>\n",
       "      <td>3</td>\n",
       "    </tr>\n",
       "    <tr>\n",
       "      <th>3</th>\n",
       "      <td>1</td>\n",
       "      <td>Futrelle, Mrs. Jacques Heath (Lily May Peel)</td>\n",
       "      <td>4</td>\n",
       "    </tr>\n",
       "    <tr>\n",
       "      <th>4</th>\n",
       "      <td>0</td>\n",
       "      <td>Allen, Mr. William Henry</td>\n",
       "      <td>5</td>\n",
       "    </tr>\n",
       "    <tr>\n",
       "      <th>...</th>\n",
       "      <td>...</td>\n",
       "      <td>...</td>\n",
       "      <td>...</td>\n",
       "    </tr>\n",
       "    <tr>\n",
       "      <th>886</th>\n",
       "      <td>0</td>\n",
       "      <td>Montvila, Rev. Juozas</td>\n",
       "      <td>887</td>\n",
       "    </tr>\n",
       "    <tr>\n",
       "      <th>887</th>\n",
       "      <td>1</td>\n",
       "      <td>Graham, Miss. Margaret Edith</td>\n",
       "      <td>888</td>\n",
       "    </tr>\n",
       "    <tr>\n",
       "      <th>888</th>\n",
       "      <td>0</td>\n",
       "      <td>Johnston, Miss. Catherine Helen \"Carrie\"</td>\n",
       "      <td>889</td>\n",
       "    </tr>\n",
       "    <tr>\n",
       "      <th>889</th>\n",
       "      <td>1</td>\n",
       "      <td>Behr, Mr. Karl Howell</td>\n",
       "      <td>890</td>\n",
       "    </tr>\n",
       "    <tr>\n",
       "      <th>890</th>\n",
       "      <td>0</td>\n",
       "      <td>Dooley, Mr. Patrick</td>\n",
       "      <td>891</td>\n",
       "    </tr>\n",
       "  </tbody>\n",
       "</table>\n",
       "<p>891 rows × 3 columns</p>\n",
       "</div>"
      ],
      "text/plain": [
       "     Survived                                               Name  PassengerId\n",
       "0           0                            Braund, Mr. Owen Harris            1\n",
       "1           1  Cumings, Mrs. John Bradley (Florence Briggs Th...            2\n",
       "2           1                             Heikkinen, Miss. Laina            3\n",
       "3           1       Futrelle, Mrs. Jacques Heath (Lily May Peel)            4\n",
       "4           0                           Allen, Mr. William Henry            5\n",
       "..        ...                                                ...          ...\n",
       "886         0                              Montvila, Rev. Juozas          887\n",
       "887         1                       Graham, Miss. Margaret Edith          888\n",
       "888         0           Johnston, Miss. Catherine Helen \"Carrie\"          889\n",
       "889         1                              Behr, Mr. Karl Howell          890\n",
       "890         0                                Dooley, Mr. Patrick          891\n",
       "\n",
       "[891 rows x 3 columns]"
      ]
     },
     "execution_count": 24,
     "metadata": {},
     "output_type": "execute_result"
    }
   ],
   "source": [
    "# Inspect column headers\n",
    "print(df.columns)\n",
    "\n",
    "# Nothing to do for\n",
    "df[['Survived', 'Name', 'PassengerId']]"
   ]
  },
  {
   "cell_type": "code",
   "execution_count": 25,
   "metadata": {},
   "outputs": [
    {
     "name": "stdout",
     "output_type": "stream",
     "text": [
      "<class 'pandas.core.frame.DataFrame'>\n",
      "RangeIndex: 891 entries, 0 to 890\n",
      "Data columns (total 12 columns):\n",
      " #   Column       Non-Null Count  Dtype  \n",
      "---  ------       --------------  -----  \n",
      " 0   PassengerId  891 non-null    int64  \n",
      " 1   Survived     891 non-null    int64  \n",
      " 2   Pclass       891 non-null    int64  \n",
      " 3   Name         891 non-null    object \n",
      " 4   Sex          891 non-null    object \n",
      " 5   Age          714 non-null    float64\n",
      " 6   SibSp        891 non-null    int64  \n",
      " 7   Parch        891 non-null    int64  \n",
      " 8   Ticket       891 non-null    object \n",
      " 9   Fare         891 non-null    float64\n",
      " 10  Cabin        204 non-null    object \n",
      " 11  Embarked     889 non-null    object \n",
      "dtypes: float64(2), int64(5), object(5)\n",
      "memory usage: 83.7+ KB\n"
     ]
    }
   ],
   "source": [
    "df.info()"
   ]
  },
  {
   "cell_type": "code",
   "execution_count": 26,
   "metadata": {},
   "outputs": [
    {
     "name": "stdout",
     "output_type": "stream",
     "text": [
      "Categorical columns\n",
      "      Sex Embarked\n",
      "0    male        S\n",
      "1  female        C\n",
      "2  female        S\n",
      "3  female        S\n",
      "4    male        S\n",
      "Numerical columns\n",
      "    Age     Fare\n",
      "0  22.0   7.2500\n",
      "1  38.0  71.2833\n",
      "2  26.0   7.9250\n",
      "3  35.0  53.1000\n",
      "4  35.0   8.0500\n",
      "Can be considered as numerical and as categorical columns. Numerical for now.\n",
      "   Pclass  SibSp  Parch\n",
      "0       3      1      0\n",
      "1       1      1      0\n",
      "2       3      0      0\n",
      "3       1      1      0\n",
      "4       3      0      0\n"
     ]
    }
   ],
   "source": [
    "# Columns to consider for model generation\n",
    "# Categorical columns\n",
    "print(\"Categorical columns\")\n",
    "print(df[['Sex','Embarked']].head())\n",
    "print(\"Numerical columns\")\n",
    "print(df[['Age', 'Fare']].head())\n",
    "print(\"Can be considered as numerical and as categorical columns. Numerical for now.\")\n",
    "print(df[['Pclass', 'SibSp', 'Parch']].head())"
   ]
  },
  {
   "cell_type": "code",
   "execution_count": 27,
   "metadata": {},
   "outputs": [
    {
     "name": "stdout",
     "output_type": "stream",
     "text": [
      "Number of NaN entries in training set:\n",
      "PassengerId 0\n",
      "Pclass 0\n",
      "Name 0\n",
      "Sex 0\n",
      "Age 140\n",
      "SibSp 0\n",
      "Parch 0\n",
      "Ticket 0\n",
      "Fare 0\n",
      "Cabin 553\n",
      "Embarked 2\n",
      "Fare is zero: 13\n",
      "Is a fare of zero due to missing values or because the passengers have traveled free of charge?\n"
     ]
    }
   ],
   "source": [
    "print(\"Number of NaN entries in training set:\")\n",
    "for col in X_train.columns:\n",
    "    print(str(col), X_train[col].isna().sum())\n",
    "\n",
    "print(\"Fare is zero:\", X_train[X_train[\"Fare\"]==0][\"Fare\"].count())\n",
    "print(\"Is a fare of zero due to missing values or because the passengers have traveled free of charge?\")"
   ]
  },
  {
   "cell_type": "markdown",
   "metadata": {},
   "source": [
    "### Handle missing age data"
   ]
  },
  {
   "cell_type": "markdown",
   "metadata": {},
   "source": [
    "### Impute missing age values\n",
    "First impute the missing age values, since it would be best to replace them not by the overall median, but by the mean / median of the Survived and Not Survived subsets in order to consider them in the evaluation."
   ]
  },
  {
   "cell_type": "code",
   "execution_count": 28,
   "metadata": {},
   "outputs": [
    {
     "name": "stdout",
     "output_type": "stream",
     "text": [
      "Average age of drowned passangers: 30.6\n",
      "Average age of survived passengers: 28.3\n"
     ]
    }
   ],
   "source": [
    "mean_age_drowned = round(df.groupby('Survived')[\"Age\"].mean()[0], 1)\n",
    "mean_age_survived = round(df.groupby('Survived')[\"Age\"].mean()[1], 1)\n",
    "print(\"Average age of drowned passangers:\", mean_age_drowned)\n",
    "print(\"Average age of survived passengers:\", mean_age_survived)"
   ]
  },
  {
   "cell_type": "code",
   "execution_count": 29,
   "metadata": {},
   "outputs": [
    {
     "name": "stdout",
     "output_type": "stream",
     "text": [
      "Average age of drowned passangers: 30.6\n",
      "Average age of survived passengers: 28.3\n"
     ]
    }
   ],
   "source": [
    "median_age_drowned = round(df.groupby('Survived')[\"Age\"].mean()[0], 1)\n",
    "median_age_survived = round(df.groupby('Survived')[\"Age\"].mean()[1], 1)\n",
    "print(\"Average age of drowned passangers:\", median_age_drowned)\n",
    "print(\"Average age of survived passengers:\", median_age_survived)"
   ]
  },
  {
   "cell_type": "code",
   "execution_count": 30,
   "metadata": {},
   "outputs": [],
   "source": [
    "# Replace with separate mean values\n",
    "# Note: Only worked with loc\n",
    "df_train.loc[df_train[\"Survived\"]==0, \"Age\"] = df_train[df_train[\"Survived\"]==0][\"Age\"].fillna(mean_age_drowned)\n",
    "df_train.loc[df_train[\"Survived\"]==1, \"Age\"] = df_train[df_train[\"Survived\"]==1][\"Age\"].fillna(mean_age_survived)\n",
    "df_test.loc[df_test[\"Survived\"]==0, \"Age\"] = df_test[df_test[\"Survived\"]==0][\"Age\"].fillna(mean_age_drowned)\n",
    "df_test.loc[df_test[\"Survived\"]==1, \"Age\"] = df_test[df_test[\"Survived\"]==1][\"Age\"].fillna(mean_age_survived)"
   ]
  },
  {
   "cell_type": "code",
   "execution_count": 31,
   "metadata": {},
   "outputs": [
    {
     "name": "stdout",
     "output_type": "stream",
     "text": [
      "Number of NaN values for the feature 'Age' in training set: 0\n",
      "Number of NaN values for the feature 'Age' in test set: 0\n"
     ]
    }
   ],
   "source": [
    "# Check if it worked\n",
    "print(\"Number of NaN values for the feature 'Age' in training set:\", df_train[\"Age\"].isna().sum())\n",
    "print(\"Number of NaN values for the feature 'Age' in test set:\", df_test[\"Age\"].isna().sum())"
   ]
  },
  {
   "cell_type": "code",
   "execution_count": 32,
   "metadata": {},
   "outputs": [],
   "source": [
    "X_train = df_train.drop(\"Survived\", axis=1)\n",
    "X_test = df_test.drop(\"Survived\", axis=1)"
   ]
  },
  {
   "cell_type": "code",
   "execution_count": 33,
   "metadata": {},
   "outputs": [
    {
     "name": "stdout",
     "output_type": "stream",
     "text": [
      "PassengerId 0\n",
      "Pclass 0\n",
      "Name 0\n",
      "Sex 0\n",
      "Age 0\n",
      "SibSp 0\n",
      "Parch 0\n",
      "Ticket 0\n",
      "Fare 0\n",
      "Cabin 553\n",
      "Embarked 2\n",
      "CabinInfo 0\n",
      "Title 0\n",
      "PassengerId 0\n",
      "Pclass 0\n",
      "Name 0\n",
      "Sex 0\n",
      "Age 0\n",
      "SibSp 0\n",
      "Parch 0\n",
      "Ticket 0\n",
      "Fare 0\n",
      "Cabin 134\n",
      "Embarked 0\n",
      "CabinInfo 0\n",
      "Title 0\n"
     ]
    }
   ],
   "source": [
    "# Check that there are now no missing values in feature columns of X_train and X_test\n",
    "for col in X_train.columns:\n",
    "    print(str(col), X_train[col].isna().sum())\n",
    "for col in X_test.columns:\n",
    "    print(str(col), X_test[col].isna().sum())"
   ]
  },
  {
   "cell_type": "markdown",
   "metadata": {},
   "source": [
    "### Apply standard feature engineering procedures using pipeline"
   ]
  },
  {
   "cell_type": "code",
   "execution_count": 34,
   "metadata": {},
   "outputs": [],
   "source": [
    "# Define proceeding for numerical columns\n",
    "cat_pipe = make_pipeline(\n",
    "    SimpleImputer(strategy='most_frequent'),\n",
    "    OneHotEncoder(sparse=False, handle_unknown='ignore')\n",
    ")"
   ]
  },
  {
   "cell_type": "code",
   "execution_count": 35,
   "metadata": {},
   "outputs": [],
   "source": [
    "num_pipe = make_pipeline(\n",
    "    MinMaxScaler()\n",
    ")"
   ]
  },
  {
   "cell_type": "code",
   "execution_count": 36,
   "metadata": {},
   "outputs": [
    {
     "data": {
      "text/html": [
       "<div>\n",
       "<style scoped>\n",
       "    .dataframe tbody tr th:only-of-type {\n",
       "        vertical-align: middle;\n",
       "    }\n",
       "\n",
       "    .dataframe tbody tr th {\n",
       "        vertical-align: top;\n",
       "    }\n",
       "\n",
       "    .dataframe thead th {\n",
       "        text-align: right;\n",
       "    }\n",
       "</style>\n",
       "<table border=\"1\" class=\"dataframe\">\n",
       "  <thead>\n",
       "    <tr style=\"text-align: right;\">\n",
       "      <th></th>\n",
       "      <th>PassengerId</th>\n",
       "      <th>Pclass</th>\n",
       "      <th>Name</th>\n",
       "      <th>Sex</th>\n",
       "      <th>Age</th>\n",
       "      <th>SibSp</th>\n",
       "      <th>Parch</th>\n",
       "      <th>Ticket</th>\n",
       "      <th>Fare</th>\n",
       "      <th>Cabin</th>\n",
       "      <th>Embarked</th>\n",
       "      <th>CabinInfo</th>\n",
       "      <th>Title</th>\n",
       "    </tr>\n",
       "  </thead>\n",
       "  <tbody>\n",
       "    <tr>\n",
       "      <th>331</th>\n",
       "      <td>332</td>\n",
       "      <td>1</td>\n",
       "      <td>Partner, Mr. Austen</td>\n",
       "      <td>male</td>\n",
       "      <td>45.5</td>\n",
       "      <td>0</td>\n",
       "      <td>0</td>\n",
       "      <td>113043</td>\n",
       "      <td>28.5000</td>\n",
       "      <td>C124</td>\n",
       "      <td>S</td>\n",
       "      <td>CabinInfo</td>\n",
       "      <td>Mr.</td>\n",
       "    </tr>\n",
       "    <tr>\n",
       "      <th>733</th>\n",
       "      <td>734</td>\n",
       "      <td>2</td>\n",
       "      <td>Berriman, Mr. William John</td>\n",
       "      <td>male</td>\n",
       "      <td>23.0</td>\n",
       "      <td>0</td>\n",
       "      <td>0</td>\n",
       "      <td>28425</td>\n",
       "      <td>13.0000</td>\n",
       "      <td>NaN</td>\n",
       "      <td>S</td>\n",
       "      <td>NoCabinInfo</td>\n",
       "      <td>Mr.</td>\n",
       "    </tr>\n",
       "    <tr>\n",
       "      <th>382</th>\n",
       "      <td>383</td>\n",
       "      <td>3</td>\n",
       "      <td>Tikkanen, Mr. Juho</td>\n",
       "      <td>male</td>\n",
       "      <td>32.0</td>\n",
       "      <td>0</td>\n",
       "      <td>0</td>\n",
       "      <td>STON/O 2. 3101293</td>\n",
       "      <td>7.9250</td>\n",
       "      <td>NaN</td>\n",
       "      <td>S</td>\n",
       "      <td>NoCabinInfo</td>\n",
       "      <td>Mr.</td>\n",
       "    </tr>\n",
       "    <tr>\n",
       "      <th>704</th>\n",
       "      <td>705</td>\n",
       "      <td>3</td>\n",
       "      <td>Hansen, Mr. Henrik Juul</td>\n",
       "      <td>male</td>\n",
       "      <td>26.0</td>\n",
       "      <td>1</td>\n",
       "      <td>0</td>\n",
       "      <td>350025</td>\n",
       "      <td>7.8542</td>\n",
       "      <td>NaN</td>\n",
       "      <td>S</td>\n",
       "      <td>NoCabinInfo</td>\n",
       "      <td>Mr.</td>\n",
       "    </tr>\n",
       "    <tr>\n",
       "      <th>813</th>\n",
       "      <td>814</td>\n",
       "      <td>3</td>\n",
       "      <td>Andersson, Miss. Ebba Iris Alfrida</td>\n",
       "      <td>female</td>\n",
       "      <td>6.0</td>\n",
       "      <td>4</td>\n",
       "      <td>2</td>\n",
       "      <td>347082</td>\n",
       "      <td>31.2750</td>\n",
       "      <td>NaN</td>\n",
       "      <td>S</td>\n",
       "      <td>NoCabinInfo</td>\n",
       "      <td>Miss.</td>\n",
       "    </tr>\n",
       "  </tbody>\n",
       "</table>\n",
       "</div>"
      ],
      "text/plain": [
       "     PassengerId Pclass                                Name     Sex   Age  \\\n",
       "331          332      1                 Partner, Mr. Austen    male  45.5   \n",
       "733          734      2          Berriman, Mr. William John    male  23.0   \n",
       "382          383      3                  Tikkanen, Mr. Juho    male  32.0   \n",
       "704          705      3             Hansen, Mr. Henrik Juul    male  26.0   \n",
       "813          814      3  Andersson, Miss. Ebba Iris Alfrida  female   6.0   \n",
       "\n",
       "     SibSp  Parch             Ticket     Fare Cabin Embarked    CabinInfo  \\\n",
       "331      0      0             113043  28.5000  C124        S    CabinInfo   \n",
       "733      0      0              28425  13.0000   NaN        S  NoCabinInfo   \n",
       "382      0      0  STON/O 2. 3101293   7.9250   NaN        S  NoCabinInfo   \n",
       "704      1      0             350025   7.8542   NaN        S  NoCabinInfo   \n",
       "813      4      2             347082  31.2750   NaN        S  NoCabinInfo   \n",
       "\n",
       "     Title  \n",
       "331    Mr.  \n",
       "733    Mr.  \n",
       "382    Mr.  \n",
       "704    Mr.  \n",
       "813  Miss.  "
      ]
     },
     "execution_count": 36,
     "metadata": {},
     "output_type": "execute_result"
    }
   ],
   "source": [
    "X_train.head()"
   ]
  },
  {
   "cell_type": "code",
   "execution_count": 37,
   "metadata": {},
   "outputs": [
    {
     "data": {
      "text/html": [
       "<div>\n",
       "<style scoped>\n",
       "    .dataframe tbody tr th:only-of-type {\n",
       "        vertical-align: middle;\n",
       "    }\n",
       "\n",
       "    .dataframe tbody tr th {\n",
       "        vertical-align: top;\n",
       "    }\n",
       "\n",
       "    .dataframe thead th {\n",
       "        text-align: right;\n",
       "    }\n",
       "</style>\n",
       "<table border=\"1\" class=\"dataframe\">\n",
       "  <thead>\n",
       "    <tr style=\"text-align: right;\">\n",
       "      <th></th>\n",
       "      <th>PassengerId</th>\n",
       "      <th>Pclass</th>\n",
       "      <th>Name</th>\n",
       "      <th>Sex</th>\n",
       "      <th>Age</th>\n",
       "      <th>SibSp</th>\n",
       "      <th>Parch</th>\n",
       "      <th>Ticket</th>\n",
       "      <th>Fare</th>\n",
       "      <th>Cabin</th>\n",
       "      <th>Embarked</th>\n",
       "      <th>CabinInfo</th>\n",
       "      <th>Title</th>\n",
       "    </tr>\n",
       "  </thead>\n",
       "  <tbody>\n",
       "    <tr>\n",
       "      <th>709</th>\n",
       "      <td>710</td>\n",
       "      <td>3</td>\n",
       "      <td>Moubarek, Master. Halim Gonios (\"William George\")</td>\n",
       "      <td>male</td>\n",
       "      <td>28.3</td>\n",
       "      <td>1</td>\n",
       "      <td>1</td>\n",
       "      <td>2661</td>\n",
       "      <td>15.2458</td>\n",
       "      <td>NaN</td>\n",
       "      <td>C</td>\n",
       "      <td>NoCabinInfo</td>\n",
       "      <td>Master.</td>\n",
       "    </tr>\n",
       "    <tr>\n",
       "      <th>439</th>\n",
       "      <td>440</td>\n",
       "      <td>2</td>\n",
       "      <td>Kvillner, Mr. Johan Henrik Johannesson</td>\n",
       "      <td>male</td>\n",
       "      <td>31.0</td>\n",
       "      <td>0</td>\n",
       "      <td>0</td>\n",
       "      <td>C.A. 18723</td>\n",
       "      <td>10.5000</td>\n",
       "      <td>NaN</td>\n",
       "      <td>S</td>\n",
       "      <td>NoCabinInfo</td>\n",
       "      <td>Mr.</td>\n",
       "    </tr>\n",
       "    <tr>\n",
       "      <th>840</th>\n",
       "      <td>841</td>\n",
       "      <td>3</td>\n",
       "      <td>Alhomaki, Mr. Ilmari Rudolf</td>\n",
       "      <td>male</td>\n",
       "      <td>20.0</td>\n",
       "      <td>0</td>\n",
       "      <td>0</td>\n",
       "      <td>SOTON/O2 3101287</td>\n",
       "      <td>7.9250</td>\n",
       "      <td>NaN</td>\n",
       "      <td>S</td>\n",
       "      <td>NoCabinInfo</td>\n",
       "      <td>Mr.</td>\n",
       "    </tr>\n",
       "    <tr>\n",
       "      <th>720</th>\n",
       "      <td>721</td>\n",
       "      <td>2</td>\n",
       "      <td>Harper, Miss. Annie Jessie \"Nina\"</td>\n",
       "      <td>female</td>\n",
       "      <td>6.0</td>\n",
       "      <td>0</td>\n",
       "      <td>1</td>\n",
       "      <td>248727</td>\n",
       "      <td>33.0000</td>\n",
       "      <td>NaN</td>\n",
       "      <td>S</td>\n",
       "      <td>NoCabinInfo</td>\n",
       "      <td>Miss.</td>\n",
       "    </tr>\n",
       "    <tr>\n",
       "      <th>39</th>\n",
       "      <td>40</td>\n",
       "      <td>3</td>\n",
       "      <td>Nicola-Yarred, Miss. Jamila</td>\n",
       "      <td>female</td>\n",
       "      <td>14.0</td>\n",
       "      <td>1</td>\n",
       "      <td>0</td>\n",
       "      <td>2651</td>\n",
       "      <td>11.2417</td>\n",
       "      <td>NaN</td>\n",
       "      <td>C</td>\n",
       "      <td>NoCabinInfo</td>\n",
       "      <td>Miss.</td>\n",
       "    </tr>\n",
       "  </tbody>\n",
       "</table>\n",
       "</div>"
      ],
      "text/plain": [
       "     PassengerId  Pclass                                               Name  \\\n",
       "709          710       3  Moubarek, Master. Halim Gonios (\"William George\")   \n",
       "439          440       2             Kvillner, Mr. Johan Henrik Johannesson   \n",
       "840          841       3                        Alhomaki, Mr. Ilmari Rudolf   \n",
       "720          721       2                  Harper, Miss. Annie Jessie \"Nina\"   \n",
       "39            40       3                        Nicola-Yarred, Miss. Jamila   \n",
       "\n",
       "        Sex   Age  SibSp  Parch            Ticket     Fare Cabin Embarked  \\\n",
       "709    male  28.3      1      1              2661  15.2458   NaN        C   \n",
       "439    male  31.0      0      0        C.A. 18723  10.5000   NaN        S   \n",
       "840    male  20.0      0      0  SOTON/O2 3101287   7.9250   NaN        S   \n",
       "720  female   6.0      0      1            248727  33.0000   NaN        S   \n",
       "39   female  14.0      1      0              2651  11.2417   NaN        C   \n",
       "\n",
       "       CabinInfo    Title  \n",
       "709  NoCabinInfo  Master.  \n",
       "439  NoCabinInfo      Mr.  \n",
       "840  NoCabinInfo      Mr.  \n",
       "720  NoCabinInfo    Miss.  \n",
       "39   NoCabinInfo    Miss.  "
      ]
     },
     "execution_count": 37,
     "metadata": {},
     "output_type": "execute_result"
    }
   ],
   "source": [
    "X_test.head()"
   ]
  },
  {
   "cell_type": "code",
   "execution_count": 38,
   "metadata": {},
   "outputs": [],
   "source": [
    "feature_transform = ColumnTransformer([\n",
    "    ('do_nothing', 'passthrough', ['PassengerId']),\n",
    "    ('cat_preprocessing', cat_pipe, ['Sex', 'Embarked']),\n",
    "    ('num_preprocessing', num_pipe, ['Pclass'])\n",
    "])"
   ]
  },
  {
   "cell_type": "code",
   "execution_count": 39,
   "metadata": {},
   "outputs": [
    {
     "name": "stdout",
     "output_type": "stream",
     "text": [
      "(712, 13)\n",
      "(712, 7)\n",
      "(179, 7)\n"
     ]
    }
   ],
   "source": [
    "X_train_m4 = feature_transform.fit_transform(X_train)\n",
    "X_test_m4 = feature_transform.transform(X_test)\n",
    "print(X_train.shape)\n",
    "print(X_train_m4.shape)\n",
    "print(X_test_m4.shape)\n",
    "# 'PassengerId', 'Pclass'\n",
    "# 2 x Sex\n",
    "# 3 x Embarked"
   ]
  },
  {
   "cell_type": "markdown",
   "metadata": {},
   "source": [
    "### Feature engineering for Siblings and Spous - For Model 5\n",
    "\n",
    "Creating three categories: \"No SibSp\", \"1to4_SibSp\", \"5orMore_SibSp\""
   ]
  },
  {
   "cell_type": "code",
   "execution_count": 40,
   "metadata": {},
   "outputs": [],
   "source": [
    "conditions_train = [\n",
    "    (X_train['SibSp'] == 0),\n",
    "    (X_train['SibSp'] >= 1) & (X_train['SibSp'] <= 4),\n",
    "    (X_train['SibSp'] >= 5)\n",
    "    ]\n",
    "\n",
    "conditions_test = [\n",
    "    (X_test['SibSp'] == 0),\n",
    "    (X_test['SibSp'] >= 1) & (X_test['SibSp'] <= 3),\n",
    "    (X_test['SibSp'] >= 4)\n",
    "    ]\n",
    "\n",
    "# List of values to be assigned\n",
    "values = ['No SibSp', '1to3_SibSp', '4orMore_SibSp']\n",
    "\n",
    "# Create a new column\n",
    "X_train['SibSpCat'] = np.select(conditions_train, values)\n",
    "X_test['SibSpCat'] = np.select(conditions_test, values)\n"
   ]
  },
  {
   "cell_type": "code",
   "execution_count": 41,
   "metadata": {},
   "outputs": [],
   "source": [
    "feature_transform = ColumnTransformer([\n",
    "    ('do_nothing', 'passthrough', ['PassengerId', 'Age']),\n",
    "    ('cat_preprocessing', cat_pipe, ['Sex', 'Embarked', 'SibSpCat', 'CabinInfo']),\n",
    "    ('num_preprocessing', num_pipe, ['Pclass'])\n",
    "])"
   ]
  },
  {
   "cell_type": "code",
   "execution_count": 42,
   "metadata": {},
   "outputs": [
    {
     "name": "stdout",
     "output_type": "stream",
     "text": [
      "(712, 14)\n",
      "(712, 13)\n",
      "(179, 13)\n"
     ]
    }
   ],
   "source": [
    "X_train_m5 = feature_transform.fit_transform(X_train)\n",
    "X_test_m5 = feature_transform.transform(X_test)\n",
    "print(X_train.shape)\n",
    "print(X_train_m5.shape)\n",
    "print(X_test_m5.shape)"
   ]
  },
  {
   "cell_type": "code",
   "execution_count": 43,
   "metadata": {},
   "outputs": [],
   "source": [
    "# Feature engineering for random forest mode - Model 9\n",
    "feature_transform = ColumnTransformer([\n",
    "    ('do_nothing', 'passthrough', ['PassengerId', 'Pclass', 'Age']),\n",
    "    ('cat_preprocessing', cat_pipe, ['Sex', 'Embarked', 'SibSpCat']),\n",
    "])"
   ]
  },
  {
   "cell_type": "code",
   "execution_count": 44,
   "metadata": {},
   "outputs": [
    {
     "name": "stdout",
     "output_type": "stream",
     "text": [
      "(712, 11)\n",
      "(179, 11)\n"
     ]
    }
   ],
   "source": [
    "X_train_m10 = feature_transform.fit_transform(X_train)\n",
    "X_test_m10 = feature_transform.transform(X_test)\n",
    "print(X_train_m10.shape)\n",
    "print(X_test_m10.shape)"
   ]
  },
  {
   "cell_type": "markdown",
   "metadata": {},
   "source": [
    "### Binning Age into 'young', 'middle-aged', and 'old'"
   ]
  },
  {
   "cell_type": "code",
   "execution_count": 45,
   "metadata": {},
   "outputs": [],
   "source": [
    "age_pipe = make_pipeline(\n",
    "    MinMaxScaler(),\n",
    "    KBinsDiscretizer(n_bins=3, strategy='quantile', encode='onehot-dense')\n",
    ")"
   ]
  },
  {
   "cell_type": "code",
   "execution_count": 46,
   "metadata": {},
   "outputs": [],
   "source": [
    "feature_transform = ColumnTransformer([\n",
    "    ('do_nothing', 'passthrough', ['PassengerId']),\n",
    "    ('cat_preprocessing', cat_pipe, ['Sex', 'Embarked', 'SibSpCat']),\n",
    "    ('num_preprocessing', num_pipe, ['Pclass']),\n",
    "    ('age_preprocessing', age_pipe, ['Age'])\n",
    "])"
   ]
  },
  {
   "cell_type": "code",
   "execution_count": 47,
   "metadata": {},
   "outputs": [
    {
     "name": "stdout",
     "output_type": "stream",
     "text": [
      "(712, 13)\n",
      "(179, 13)\n"
     ]
    }
   ],
   "source": [
    "X_train_m7 = feature_transform.fit_transform(X_train)\n",
    "X_test_m7 = feature_transform.transform(X_test)\n",
    "print(X_train_m7.shape)\n",
    "print(X_test_m7.shape)"
   ]
  },
  {
   "cell_type": "markdown",
   "metadata": {},
   "source": [
    "### Include CabinInfo and Title "
   ]
  },
  {
   "cell_type": "code",
   "execution_count": 48,
   "metadata": {},
   "outputs": [],
   "source": [
    "feature_transform = ColumnTransformer([\n",
    "    ('do_nothing', 'passthrough', ['PassengerId']),\n",
    "    ('cat_preprocessing', cat_pipe, ['Sex', 'Embarked', 'CabinInfo', 'Title']),\n",
    "    ('num_preprocessing', num_pipe, ['Pclass', 'Age', 'Fare', 'SibSp', 'Parch'])\n",
    "])"
   ]
  },
  {
   "cell_type": "code",
   "execution_count": 49,
   "metadata": {},
   "outputs": [
    {
     "name": "stdout",
     "output_type": "stream",
     "text": [
      "(712, 18)\n",
      "(179, 18)\n"
     ]
    }
   ],
   "source": [
    "X_train_m8 = feature_transform.fit_transform(X_train)\n",
    "X_test_m8 = feature_transform.transform(X_test)\n",
    "print(X_train_m8.shape)\n",
    "print(X_test_m8.shape)"
   ]
  },
  {
   "cell_type": "markdown",
   "metadata": {},
   "source": [
    "## 6. Model Generation"
   ]
  },
  {
   "cell_type": "code",
   "execution_count": 50,
   "metadata": {},
   "outputs": [],
   "source": [
    "y_train_dummy = df_train[\"Survived\"]\n",
    "X_train_dummy = df_train.drop(\"Survived\", axis = 1)\n",
    "y_test_dummy = df_test[\"Survived\"]\n",
    "X_test_dummy = df_test.drop(\"Survived\", axis = 1)"
   ]
  },
  {
   "cell_type": "markdown",
   "metadata": {},
   "source": [
    "### Dummy Classifiers"
   ]
  },
  {
   "cell_type": "markdown",
   "metadata": {},
   "source": [
    "#### Model 1: Dummy Classifier using the strategy 'most_frequent'"
   ]
  },
  {
   "cell_type": "code",
   "execution_count": 51,
   "metadata": {},
   "outputs": [
    {
     "name": "stdout",
     "output_type": "stream",
     "text": [
      "Accuracy of model 1 for training set: 0.62\n",
      "Accuracy of model 1 for test set: 0.587\n"
     ]
    }
   ],
   "source": [
    "# Traning the model\n",
    "m1 = DummyClassifier(strategy='most_frequent')\n",
    "m1.fit(X_train_dummy, y_train_dummy)\n",
    "# Model evaluation\n",
    "print(\"Accuracy of model 1 for training set:\", round(m1.score(X_train_dummy, y_train),2))\n",
    "print(\"Accuracy of model 1 for test set:\", round(m1.score(X_test_dummy, y_test),3))"
   ]
  },
  {
   "cell_type": "markdown",
   "metadata": {},
   "source": [
    "#### Model 2: Dummy Classifier using the strategy 'stratified'"
   ]
  },
  {
   "cell_type": "code",
   "execution_count": 52,
   "metadata": {},
   "outputs": [
    {
     "name": "stdout",
     "output_type": "stream",
     "text": [
      "Accuracy of model 2 for training set: 0.49\n",
      "Accuracy of model 2 for test set: 0.486\n"
     ]
    }
   ],
   "source": [
    "# Traning the model\n",
    "m2 = DummyClassifier(strategy='stratified')\n",
    "m2.fit(X_train_dummy, y_train_dummy)\n",
    "# Model evaluation\n",
    "print(\"Accuracy of model 2 for training set:\", round(m2.score(X_train_dummy, y_train),2))\n",
    "print(\"Accuracy of model 2 for test set:\", round(m2.score(X_test_dummy, y_test),3))"
   ]
  },
  {
   "cell_type": "markdown",
   "metadata": {},
   "source": [
    "### Logistric regression models"
   ]
  },
  {
   "cell_type": "markdown",
   "metadata": {},
   "source": [
    "#### Model 3:  No feature engineering and using only 'Pclass' as feature"
   ]
  },
  {
   "cell_type": "code",
   "execution_count": 53,
   "metadata": {},
   "outputs": [
    {
     "name": "stdout",
     "output_type": "stream",
     "text": [
      "Coefficient and Intercept: w1: [[-0.80800402]] and w0: [1.33719422]\n",
      "Accuracy of model 3 for training set: 0.67\n",
      "Accuracy of model 3 for test set: 0.704\n"
     ]
    }
   ],
   "source": [
    "# Create subset of train and test set containing only \"Pclass\" as feature\n",
    "X_train_m3 = X_train[[\"Pclass\"]]\n",
    "X_test_m3 = X_test[[\"Pclass\"]]\n",
    "# Create the model\n",
    "m3 = LogisticRegression()\n",
    "m3.fit(X_train_m3, y_train)\n",
    "# Print the coefficient and intercept values of the model\n",
    "print(\"Coefficient and Intercept: \"f'w1: {m3.coef_} and w0: {m3.intercept_}')\n",
    "# Calculate the accuracy\n",
    "print(\"Accuracy of model 3 for training set:\", round(m3.score(X_train_m3, y_train),2))\n",
    "print(\"Accuracy of model 3 for test set:\", round(m3.score(X_test_m3, y_test),3))"
   ]
  },
  {
   "cell_type": "markdown",
   "metadata": {},
   "source": [
    "#### Model 4 : Applying feature engineering\n",
    "Categorical columns (one-hot encoded): Sex, Embarked\n",
    "\n",
    "Numerical columns (scaled): Pclass"
   ]
  },
  {
   "cell_type": "code",
   "execution_count": 54,
   "metadata": {},
   "outputs": [
    {
     "name": "stdout",
     "output_type": "stream",
     "text": [
      "Accuracy of model 4 for training set: 0.79\n",
      "Accuracy of model 4 for test set: 0.782\n"
     ]
    }
   ],
   "source": [
    "# Create the model\n",
    "m4 = LogisticRegression(max_iter=500)\n",
    "m4.fit(X_train_m4, y_train)\n",
    "# Print the coefficient and intercept values of the model\n",
    "# Calculate the accuracy\n",
    "print(\"Accuracy of model 4 for training set:\", round(m4.score(X_train_m4, y_train),2))\n",
    "print(\"Accuracy of model 4 for test set:\", round(m4.score(X_test_m4, y_test),3))"
   ]
  },
  {
   "cell_type": "markdown",
   "metadata": {},
   "source": [
    "#### Model 5 : SibSp considered as three categories\n",
    "Categorical columns (one-hot encoded): Sex, Embarked, SibSpCat\n",
    "\n",
    "Numerical columns (scaled): Pclass"
   ]
  },
  {
   "cell_type": "code",
   "execution_count": 55,
   "metadata": {},
   "outputs": [
    {
     "name": "stdout",
     "output_type": "stream",
     "text": [
      "Accuracy of model 5 for training set: 0.8\n",
      "Accuracy of model 5 for test set: 0.81\n"
     ]
    }
   ],
   "source": [
    "# Create the model\n",
    "m5 = LogisticRegression(max_iter=500)\n",
    "m5.fit(X_train_m5, y_train)\n",
    "\n",
    "# Calculate the accuracy\n",
    "print(\"Accuracy of model 5 for training set:\", round(m5.score(X_train_m5, y_train),2))\n",
    "print(\"Accuracy of model 5 for test set:\", round(m5.score(X_test_m5, y_test),3))"
   ]
  },
  {
   "cell_type": "markdown",
   "metadata": {},
   "source": [
    "#### Model 6: With class_weight='balanced'\n",
    "With option class_weight='balanced' to even out the bias caused by the non-survivors outnumbering the survivors."
   ]
  },
  {
   "cell_type": "code",
   "execution_count": 56,
   "metadata": {},
   "outputs": [
    {
     "name": "stdout",
     "output_type": "stream",
     "text": [
      "Accuracy of model 6 for training set: 0.785\n",
      "Accuracy of model 6 for test set: 0.799\n"
     ]
    }
   ],
   "source": [
    "X_train_m6 = X_train_m5\n",
    "X_test_m6 = X_test_m5\n",
    "\n",
    "# Create the model\n",
    "m6 = LogisticRegression(max_iter=500, class_weight='balanced')\n",
    "m6.fit(X_train_m6, y_train)\n",
    "\n",
    "# Calculate the accuracy\n",
    "print(\"Accuracy of model 6 for training set:\", round(m6.score(X_train_m6, y_train),3))\n",
    "print(\"Accuracy of model 6 for test set:\", round(m6.score(X_test_m6, y_test),3))\n",
    "# No real improvement in accuracy seen"
   ]
  },
  {
   "cell_type": "markdown",
   "metadata": {},
   "source": [
    "#### Model 7: With 'Age' categories young, middle-age, and old"
   ]
  },
  {
   "cell_type": "code",
   "execution_count": 57,
   "metadata": {},
   "outputs": [
    {
     "name": "stdout",
     "output_type": "stream",
     "text": [
      "Accuracy of model 7 for training set: 0.795\n",
      "Accuracy of model 7 for test set: 0.788\n"
     ]
    }
   ],
   "source": [
    "# Create the model\n",
    "m7 = LogisticRegression(max_iter=500)\n",
    "m7.fit(X_train_m7, y_train)\n",
    "\n",
    "# Calculate the accuracy\n",
    "print(\"Accuracy of model 7 for training set:\", round(m7.score(X_train_m7, y_train),3))\n",
    "print(\"Accuracy of model 7 for test set:\", round(m7.score(X_test_m7, y_test),3))\n",
    "# No improvement compared to model 5"
   ]
  },
  {
   "cell_type": "markdown",
   "metadata": {},
   "source": [
    "#### Model 8: Considering all features"
   ]
  },
  {
   "cell_type": "code",
   "execution_count": 58,
   "metadata": {},
   "outputs": [
    {
     "name": "stdout",
     "output_type": "stream",
     "text": [
      "Accuracy of model 8 for training set: 0.837\n",
      "Accuracy of model 8 for test set: 0.816\n"
     ]
    }
   ],
   "source": [
    "# Create the model\n",
    "m8 = LogisticRegression(max_iter=500)\n",
    "m8.fit(X_train_m8, y_train)\n",
    "\n",
    "# Calculate the accuracy\n",
    "print(\"Accuracy of model 8 for training set:\", round(m8.score(X_train_m8, y_train),3))\n",
    "print(\"Accuracy of model 8 for test set:\", round(m8.score(X_test_m8, y_test),3))"
   ]
  },
  {
   "cell_type": "markdown",
   "metadata": {},
   "source": [
    "### Random forest models"
   ]
  },
  {
   "cell_type": "markdown",
   "metadata": {},
   "source": [
    "####  Model 9 : Basic random forest model\n",
    "Random forest model considering 'Pclass', 'Age', 'SibSp'"
   ]
  },
  {
   "cell_type": "code",
   "execution_count": 59,
   "metadata": {},
   "outputs": [],
   "source": [
    "# Initialize the RandomForestClassifier\n",
    "m9 = RandomForestClassifier(n_estimators=3000, max_depth=7)"
   ]
  },
  {
   "cell_type": "code",
   "execution_count": 60,
   "metadata": {},
   "outputs": [],
   "source": [
    "# Create training and test datasets\n",
    "X_train_m9 = X_train[[\"Pclass\", \"Age\", \"SibSp\"]]\n",
    "X_test_m9 = X_test[[\"Pclass\", \"Age\", \"SibSp\"]]"
   ]
  },
  {
   "cell_type": "code",
   "execution_count": 61,
   "metadata": {},
   "outputs": [
    {
     "name": "stdout",
     "output_type": "stream",
     "text": [
      "Accuracy of random forest model for training set: 0.816\n",
      "Accuracy of random forest model for test set: 0.81\n"
     ]
    }
   ],
   "source": [
    "# Fit the training data\n",
    "m9.fit(X_train_m9, y_train)\n",
    "print(\"Accuracy of random forest model for training set:\", round(m9.score(X_train_m9, y_train), 3))\n",
    "print(\"Accuracy of random forest model for test set:\", round(m9.score(X_test_m9, y_test), 3))"
   ]
  },
  {
   "cell_type": "markdown",
   "metadata": {},
   "source": [
    "#### Model 10: Random forest model considering one-hot encoded 'Sex' and 'Embarked', as well as categorized Siblings and Spous\n",
    "Random forest model considering 'Pclass', 'Age', 'SibSpCat'"
   ]
  },
  {
   "cell_type": "code",
   "execution_count": 62,
   "metadata": {},
   "outputs": [],
   "source": [
    "m10 = RandomForestClassifier(n_estimators=100, max_depth=3)"
   ]
  },
  {
   "cell_type": "code",
   "execution_count": 63,
   "metadata": {},
   "outputs": [
    {
     "name": "stdout",
     "output_type": "stream",
     "text": [
      "Accuracy of random forest model for training set: 0.808\n",
      "Accuracy of random forest model for test set: 0.782\n"
     ]
    }
   ],
   "source": [
    "# Fit the training data\n",
    "m10.fit(X_train_m10, y_train)\n",
    "print(\"Accuracy of random forest model for training set:\", round(m10.score(X_train_m10, y_train), 3))\n",
    "print(\"Accuracy of random forest model for test set:\", round(m10.score(X_test_m10, y_test), 3))"
   ]
  },
  {
   "cell_type": "markdown",
   "metadata": {},
   "source": [
    "#### Model 11: As Model 9, but with age groups 'young', 'middle-age', and 'old'"
   ]
  },
  {
   "cell_type": "code",
   "execution_count": 64,
   "metadata": {},
   "outputs": [],
   "source": [
    "m11 = RandomForestClassifier(n_estimators=500, max_depth=5)"
   ]
  },
  {
   "cell_type": "code",
   "execution_count": 65,
   "metadata": {},
   "outputs": [
    {
     "name": "stdout",
     "output_type": "stream",
     "text": [
      "Accuracy of random forest model for training set: 0.823\n",
      "Accuracy of random forest model for test set: 0.793\n"
     ]
    }
   ],
   "source": [
    "X_train_m11 = X_train_m7\n",
    "X_test_m11 = X_test_m7\n",
    "\n",
    "# Fit the training data\n",
    "m11.fit(X_train_m11, y_train)\n",
    "print(\"Accuracy of random forest model for training set:\", round(m11.score(X_train_m11, y_train), 3))\n",
    "print(\"Accuracy of random forest model for test set:\", round(m11.score(X_test_m11, y_test), 3))\n",
    "# Less computationally expensive, but accuracy not as good as for Model 9"
   ]
  },
  {
   "cell_type": "markdown",
   "metadata": {},
   "source": [
    "#### Model 12: Random Forest model considering all features"
   ]
  },
  {
   "cell_type": "code",
   "execution_count": 66,
   "metadata": {},
   "outputs": [],
   "source": [
    "m12 = RandomForestClassifier(n_estimators=500, max_depth=5)"
   ]
  },
  {
   "cell_type": "code",
   "execution_count": 67,
   "metadata": {},
   "outputs": [
    {
     "name": "stdout",
     "output_type": "stream",
     "text": [
      "Accuracy of random forest model for training set: 0.871\n",
      "Accuracy of random forest model for test set: 0.844\n"
     ]
    }
   ],
   "source": [
    "# Fit the training data\n",
    "X_train_m12 = X_train_m8\n",
    "X_test_m12 = X_test_m8\n",
    "m12.fit(X_train_m12, y_train)\n",
    "print(\"Accuracy of random forest model for training set:\", round(m12.score(X_train_m12, y_train), 3))\n",
    "print(\"Accuracy of random forest model for test set:\", round(m12.score(X_test_m12, y_test), 3))"
   ]
  },
  {
   "cell_type": "markdown",
   "metadata": {},
   "source": [
    "## 7. Evaluation\n",
    "\n",
    "For accuracy calculations for the individual models see section 6 above."
   ]
  },
  {
   "cell_type": "markdown",
   "metadata": {},
   "source": [
    "## 8. Predict"
   ]
  },
  {
   "cell_type": "markdown",
   "metadata": {},
   "source": [
    "### Model 3"
   ]
  },
  {
   "cell_type": "code",
   "execution_count": 68,
   "metadata": {},
   "outputs": [
    {
     "name": "stdout",
     "output_type": "stream",
     "text": [
      "Accuracy: 0.704\n",
      "Precision: 0.698\n",
      "Recall: 0.5\n",
      "F1-Score: 0.583\n",
      "AUC score: 0.674\n"
     ]
    }
   ],
   "source": [
    "# Perform prediction\n",
    "y_pred_m3 = m3.predict(X_test_m3)\n",
    "# Determine quality\n",
    "print(\"Accuracy:\", round(accuracy_score(y_test, y_pred_m3),3))\n",
    "print(\"Precision:\", round(precision_score(y_true=y_test, y_pred=y_pred_m3), 3))\n",
    "print(\"Recall:\", round(recall_score(y_true=y_test, y_pred=y_pred_m3), 3))\n",
    "print(\"F1-Score:\", round(f1_score(y_true=y_test, y_pred=y_pred_m3), 3))\n",
    "print(\"AUC score:\", round(roc_auc_score(y_true=y_test, y_score=y_pred_m3), 3))"
   ]
  },
  {
   "cell_type": "code",
   "execution_count": 288,
   "metadata": {},
   "outputs": [],
   "source": [
    "# Calculate probabilities for test set\n",
    "y_pred_probabilities = m3.predict_proba(X_test_m3)"
   ]
  },
  {
   "cell_type": "code",
   "execution_count": 289,
   "metadata": {},
   "outputs": [
    {
     "name": "stdout",
     "output_type": "stream",
     "text": [
      "Accuracy for threshold p=0.9: 0.587\n"
     ]
    }
   ],
   "source": [
    "# Check effect of changing threshold to 0.9 according to 2.2.4\n",
    "y_pred_for_p0_9 = []\n",
    "for i in y_pred_probabilities[:,1]:\n",
    "    if i < 0.9:\n",
    "        y_pred_for_p0_9.append(0)\n",
    "    else:\n",
    "        y_pred_for_p0_9.append(1)\n",
    "# Only 0 predicted\n",
    "print(\"Accuracy for threshold p=0.9:\", round(accuracy_score(y_test, y_pred_for_p0_9),3))"
   ]
  },
  {
   "cell_type": "code",
   "execution_count": 290,
   "metadata": {},
   "outputs": [
    {
     "name": "stdout",
     "output_type": "stream",
     "text": [
      "Accuracy for threshold p=0.9: 0.413\n"
     ]
    }
   ],
   "source": [
    "# Check effect of changing threshold to 0.1 according to 2.2.4\n",
    "y_pred_for_p0_1 = []\n",
    "for i in y_pred_probabilities[:,1]:\n",
    "    if i < 0.1:\n",
    "        y_pred_for_p0_1.append(0)\n",
    "    else:\n",
    "        y_pred_for_p0_1.append(1)\n",
    "\n",
    "print(\"Accuracy for threshold p=0.9:\", round(accuracy_score(y_test, y_pred_for_p0_1),3))"
   ]
  },
  {
   "cell_type": "markdown",
   "metadata": {},
   "source": [
    "### Model 4"
   ]
  },
  {
   "cell_type": "code",
   "execution_count": 69,
   "metadata": {},
   "outputs": [
    {
     "name": "stdout",
     "output_type": "stream",
     "text": [
      "Accuracy for Model 4: 0.782\n",
      "Precision: 0.733\n",
      "Recall: 0.743\n",
      "F1-Score: 0.738\n",
      "AUC score: 0.776\n"
     ]
    }
   ],
   "source": [
    "# Perform prediction\n",
    "y_pred_m4 = m4.predict(X_test_m4)\n",
    "# Determine accuracy\n",
    "print(\"Accuracy for Model 4:\", round(accuracy_score(y_test, y_pred_m4),3))\n",
    "print(\"Precision:\", round(precision_score(y_true=y_test, y_pred=y_pred_m4), 3))\n",
    "print(\"Recall:\", round(recall_score(y_true=y_test, y_pred=y_pred_m4), 3))\n",
    "print(\"F1-Score:\", round(f1_score(y_true=y_test, y_pred=y_pred_m4), 3))\n",
    "print(\"AUC score:\", round(roc_auc_score(y_true=y_test, y_score=y_pred_m4), 3))"
   ]
  },
  {
   "cell_type": "markdown",
   "metadata": {},
   "source": [
    "### Model 5"
   ]
  },
  {
   "cell_type": "code",
   "execution_count": 70,
   "metadata": {},
   "outputs": [
    {
     "name": "stdout",
     "output_type": "stream",
     "text": [
      "Accuracy for Model 5: 0.81\n",
      "Precision: 0.786\n",
      "Recall: 0.743\n",
      "F1-Score: 0.764\n",
      "AUC score: 0.8\n"
     ]
    }
   ],
   "source": [
    "# Perform prediction\n",
    "y_pred_m5 = m5.predict(X_test_m5)\n",
    "# Determine accuracy\n",
    "print(\"Accuracy for Model 5:\", round(accuracy_score(y_test, y_pred_m5),3))\n",
    "print(\"Precision:\", round(precision_score(y_true=y_test, y_pred=y_pred_m5), 3))\n",
    "print(\"Recall:\", round(recall_score(y_true=y_test, y_pred=y_pred_m5), 3))\n",
    "print(\"F1-Score:\", round(f1_score(y_true=y_test, y_pred=y_pred_m5), 3))\n",
    "print(\"AUC score:\", round(roc_auc_score(y_true=y_test, y_score=y_pred_m5), 3))"
   ]
  },
  {
   "cell_type": "markdown",
   "metadata": {},
   "source": [
    "### Model 6"
   ]
  },
  {
   "cell_type": "code",
   "execution_count": 71,
   "metadata": {},
   "outputs": [
    {
     "name": "stdout",
     "output_type": "stream",
     "text": [
      "Accuracy for Model 6: 0.799\n",
      "Precision: 0.732\n",
      "Recall: 0.811\n",
      "F1-Score: 0.769\n",
      "AUC score: 0.801\n"
     ]
    }
   ],
   "source": [
    "# Perform prediction\n",
    "y_pred_m6 = m6.predict(X_test_m6)\n",
    "# Determine accuracy\n",
    "print(\"Accuracy for Model 6:\", round(accuracy_score(y_test, y_pred_m6),3))\n",
    "print(\"Precision:\", round(precision_score(y_true=y_test, y_pred=y_pred_m6), 3))\n",
    "print(\"Recall:\", round(recall_score(y_true=y_test, y_pred=y_pred_m6), 3))\n",
    "print(\"F1-Score:\", round(f1_score(y_true=y_test, y_pred=y_pred_m6), 3))\n",
    "print(\"AUC score:\", round(roc_auc_score(y_true=y_test, y_score=y_pred_m6), 3))"
   ]
  },
  {
   "cell_type": "markdown",
   "metadata": {},
   "source": [
    "### Model 7"
   ]
  },
  {
   "cell_type": "code",
   "execution_count": 72,
   "metadata": {},
   "outputs": [
    {
     "name": "stdout",
     "output_type": "stream",
     "text": [
      "Accuracy for Model 7: 0.788\n",
      "Precision: 0.737\n",
      "Recall: 0.757\n",
      "F1-Score: 0.747\n",
      "AUC score: 0.783\n"
     ]
    }
   ],
   "source": [
    "# Perform prediction\n",
    "y_pred_m7 = m7.predict(X_test_m7)\n",
    "# Determine accuracy\n",
    "print(\"Accuracy for Model 7:\", round(accuracy_score(y_test, y_pred_m7),3))\n",
    "print(\"Precision:\", round(precision_score(y_true=y_test, y_pred=y_pred_m7), 3))\n",
    "print(\"Recall:\", round(recall_score(y_true=y_test, y_pred=y_pred_m7), 3))\n",
    "print(\"F1-Score:\", round(f1_score(y_true=y_test, y_pred=y_pred_m7), 3))\n",
    "print(\"AUC score:\", round(roc_auc_score(y_true=y_test, y_score=y_pred_m7), 3))"
   ]
  },
  {
   "cell_type": "markdown",
   "metadata": {},
   "source": [
    "### Model 8"
   ]
  },
  {
   "cell_type": "code",
   "execution_count": 73,
   "metadata": {},
   "outputs": [
    {
     "name": "stdout",
     "output_type": "stream",
     "text": [
      "Accuracy for Model 9: 0.816\n",
      "Precision: 0.781\n",
      "Recall: 0.77\n",
      "F1-Score: 0.776\n",
      "AUC score: 0.809\n"
     ]
    }
   ],
   "source": [
    "# Perform prediction\n",
    "y_pred_m8 = m8.predict(X_test_m8)\n",
    "# Determine accuracy\n",
    "print(\"Accuracy for Model 9:\", round(accuracy_score(y_test, y_pred_m8),3))\n",
    "print(\"Precision:\", round(precision_score(y_true=y_test, y_pred=y_pred_m8), 3))\n",
    "print(\"Recall:\", round(recall_score(y_true=y_test, y_pred=y_pred_m8), 3))\n",
    "print(\"F1-Score:\", round(f1_score(y_true=y_test, y_pred=y_pred_m8), 3))\n",
    "print(\"AUC score:\", round(roc_auc_score(y_true=y_test, y_score=y_pred_m8), 3))"
   ]
  },
  {
   "cell_type": "markdown",
   "metadata": {},
   "source": [
    "### Model 9"
   ]
  },
  {
   "cell_type": "code",
   "execution_count": 74,
   "metadata": {},
   "outputs": [
    {
     "name": "stdout",
     "output_type": "stream",
     "text": [
      "Accuracy for Model 9: 0.81\n",
      "Precision: 0.812\n",
      "Recall: 0.703\n",
      "F1-Score: 0.754\n",
      "AUC score: 0.794\n"
     ]
    }
   ],
   "source": [
    "# Perform prediction\n",
    "y_pred_m9 = m9.predict(X_test_m9)\n",
    "# Determine accuracy\n",
    "print(\"Accuracy for Model 9:\", round(accuracy_score(y_test, y_pred_m9),3))\n",
    "print(\"Precision:\", round(precision_score(y_true=y_test, y_pred=y_pred_m9), 3))\n",
    "print(\"Recall:\", round(recall_score(y_true=y_test, y_pred=y_pred_m9), 3))\n",
    "print(\"F1-Score:\", round(f1_score(y_true=y_test, y_pred=y_pred_m9), 3))\n",
    "print(\"AUC score:\", round(roc_auc_score(y_true=y_test, y_score=y_pred_m9), 3))"
   ]
  },
  {
   "cell_type": "markdown",
   "metadata": {},
   "source": [
    "### Model 10"
   ]
  },
  {
   "cell_type": "code",
   "execution_count": 75,
   "metadata": {},
   "outputs": [
    {
     "name": "stdout",
     "output_type": "stream",
     "text": [
      "Accuracy for Model 10: 0.782\n",
      "Precision: 0.778\n",
      "Recall: 0.662\n",
      "F1-Score: 0.715\n",
      "AUC score: 0.764\n"
     ]
    }
   ],
   "source": [
    "# Perform prediction\n",
    "y_pred_m10 = m10.predict(X_test_m10)\n",
    "# Determine accuracy\n",
    "print(\"Accuracy for Model 10:\", round(accuracy_score(y_test, y_pred_m10),3))\n",
    "print(\"Precision:\", round(precision_score(y_true=y_test, y_pred=y_pred_m10), 3))\n",
    "print(\"Recall:\", round(recall_score(y_true=y_test, y_pred=y_pred_m10), 3))\n",
    "print(\"F1-Score:\", round(f1_score(y_true=y_test, y_pred=y_pred_m10), 3))\n",
    "print(\"AUC score:\", round(roc_auc_score(y_true=y_test, y_score=y_pred_m10), 3))"
   ]
  },
  {
   "cell_type": "markdown",
   "metadata": {},
   "source": [
    "### Model 11"
   ]
  },
  {
   "cell_type": "code",
   "execution_count": 76,
   "metadata": {},
   "outputs": [
    {
     "name": "stdout",
     "output_type": "stream",
     "text": [
      "Accuracy for Model 10: 0.793\n",
      "Precision: 0.794\n",
      "Recall: 0.676\n",
      "F1-Score: 0.73\n",
      "AUC score: 0.776\n"
     ]
    }
   ],
   "source": [
    "# Perform prediction\n",
    "y_pred_m11 = m11.predict(X_test_m11)\n",
    "# Determine accuracy\n",
    "print(\"Accuracy for Model 10:\", round(accuracy_score(y_test, y_pred_m11),3))\n",
    "print(\"Precision:\", round(precision_score(y_true=y_test, y_pred=y_pred_m11), 3))\n",
    "print(\"Recall:\", round(recall_score(y_true=y_test, y_pred=y_pred_m11), 3))\n",
    "print(\"F1-Score:\", round(f1_score(y_true=y_test, y_pred=y_pred_m11), 3))\n",
    "print(\"AUC score:\", round(roc_auc_score(y_true=y_test, y_score=y_pred_m11), 3))"
   ]
  },
  {
   "cell_type": "markdown",
   "metadata": {},
   "source": [
    "### Model 12"
   ]
  },
  {
   "cell_type": "code",
   "execution_count": 77,
   "metadata": {},
   "outputs": [
    {
     "name": "stdout",
     "output_type": "stream",
     "text": [
      "Accuracy for Model 12: 0.844\n",
      "Precision: 0.848\n",
      "Recall: 0.757\n",
      "F1-Score: 0.8\n",
      "AUC score: 0.831\n"
     ]
    }
   ],
   "source": [
    "# Perform prediction\n",
    "y_pred_m12 = m12.predict(X_test_m12)\n",
    "# Determine accuracy\n",
    "print(\"Accuracy for Model 12:\", round(accuracy_score(y_test, y_pred_m12),3))\n",
    "print(\"Precision:\", round(precision_score(y_true=y_test, y_pred=y_pred_m12), 3))\n",
    "print(\"Recall:\", round(recall_score(y_true=y_test, y_pred=y_pred_m12), 3))\n",
    "print(\"F1-Score:\", round(f1_score(y_true=y_test, y_pred=y_pred_m12), 3))\n",
    "print(\"AUC score:\", round(roc_auc_score(y_true=y_test, y_score=y_pred_m12), 3))"
   ]
  }
 ],
 "metadata": {
  "kernelspec": {
   "display_name": "Python 3.10.4 ('project02')",
   "language": "python",
   "name": "python3"
  },
  "language_info": {
   "codemirror_mode": {
    "name": "ipython",
    "version": 3
   },
   "file_extension": ".py",
   "mimetype": "text/x-python",
   "name": "python",
   "nbconvert_exporter": "python",
   "pygments_lexer": "ipython3",
   "version": "3.10.4"
  },
  "orig_nbformat": 4,
  "vscode": {
   "interpreter": {
    "hash": "7b9de78156346c19bd5982ccb2619b21f0f4e8aee245addaab32159f8bb680a7"
   }
  }
 },
 "nbformat": 4,
 "nbformat_minor": 2
}
